{
 "cells": [
  {
   "cell_type": "code",
   "execution_count": 1,
   "metadata": {},
   "outputs": [],
   "source": [
    "import cv2\n",
    "import numpy as np\n",
    "import matplotlib.pyplot as plt\n",
    "from PIL import Image\n",
    "import glob"
   ]
  },
  {
   "cell_type": "code",
   "execution_count": 2,
   "metadata": {},
   "outputs": [],
   "source": [
    "names = np.array([\n",
    "    \"S001_999_096_999\",\n",
    "    \"S002_082_081_066\",\n",
    "    \"S003_113_112_097\",\n",
    "    \"S004_128_141_127\",\n",
    "    \"S005_053_052_040\",\n",
    "    \"S006_114_113_098\",\n",
    "    \"S007_999_067_999\",\n",
    "    \"S008_142_999_999\",\n",
    "    \"S009_157_156_999\",\n",
    "    \"S010_999_041_029\",\n",
    "    \"S011_054_999_999\",\n",
    "    \"S012_084_083_068\",\n",
    "    \"S013_999_143_129\",\n",
    "    \"S014_170_180_169\",\n",
    "    \"S015_020_030_019\",\n",
    "    \"S016_999_999_099\",\n",
    "    \"S017_010_009_001\",\n",
    "    \"S018_031_999_999\",\n",
    "    \"S019_070_999_999\",\n",
    "    \"S020_999_999_069\",\n",
    "    \"S021_116_115_100\",\n",
    "    \"S022_045_144_130\",\n",
    "    \"S023_191_190_181\",\n",
    "    \"S024_043_055_042\",\n",
    "    \"S025_159_171_158\",\n",
    "    \"S026_086_999_085\",\n",
    "    \"S027_003_011_002\",\n",
    "    \"S028_022_032_021\",\n",
    "    \"S029_072_071_056\",\n",
    "    \"S030_102_117_101\",\n",
    "    \"S031_132_146_131\",\n",
    "    \"S032_999_999_172\",\n",
    "    \"S033_183_192_182\",\n",
    "    \"S034_004_012_999\",\n",
    "    \"S035_045_999_044\",\n",
    "    \"S036_073_087_999\",\n",
    "    \"S037_161_173_160\",\n",
    "    \"S038_184_193_999\",\n",
    "    \"S039_034_033_023\",\n",
    "    \"S040_119_118_999\",\n",
    "    \"S041_148_147_133\",\n",
    "    \"S042_014_999_999\",\n",
    "    \"S043_024_999_013\",\n",
    "    \"S044_104_103_088\",\n",
    "    \"S045_059_058_046\",\n",
    "    \"S046_163_999_999\",\n",
    "    \"S047_999_999_174\",\n",
    "    \"S048_195_194_185\",\n",
    "    \"S049_006_015_005\",\n",
    "    \"S050_075_074_999\",\n",
    "    \"S051_999_134_120\",\n",
    "    \"S052_999_163_149\",\n",
    "    \"S053_036_047_035\",\n",
    "    \"S054_999_105_089\",\n",
    "    \"S055_176_175_164\",\n",
    "    \"S056_026_025_999\",\n",
    "    \"S057_136_135_121\",\n",
    "    \"S058_187_196_186\",\n",
    "    \"S059_017_016_007\",\n",
    "    \"S060_061_076_060\",\n",
    "    \"S061_091_090_076\",\n",
    "    \"S062_151_165_150\",\n",
    "    \"S063_049_048_037\",\n",
    "    \"S064_062_999_999\",\n",
    "    \"S065_107_122_106\",\n",
    "    \"S066_018_999_008\",\n",
    "    \"S067_178_177_166\",\n",
    "    \"S068_198_197_188\",\n",
    "    \"S069_028_038_027\",\n",
    "    \"S070_999_063_999\",\n",
    "    \"S071_078_092_077\",\n",
    "    \"S072_138_137_123\",\n",
    "    \"S073_189_999_999\",\n",
    "    \"S074_153_999_152\",\n",
    "    \"S075_179_999_167\",\n",
    "    \"S076_051_050_039\",\n",
    "    \"S077_999_093_999\",\n",
    "    \"S078_109_124_108\",\n",
    "    \"S079_154_999_999\",\n",
    "    \"S080_168_999_999\",\n",
    "    \"S081_065_079_064\",\n",
    "    \"S082_080_999_999\",\n",
    "    \"S083_140_155_139\",\n",
    "    \"S084_999_999_094\",\n",
    "    \"S085_126_999_125\",\n",
    "    \"S086_111_110_095\",\n",
    "    \"S087_999_999_999\",\n",
    "    \"S088_999_999_999\",\n",
    "    \"S089_999_999_999\",\n",
    "    \"S090_999_999_999\",\n",
    "    \"S091_999_999_999\",\n",
    "    \"S092_999_999_999\",\n",
    "])\n",
    "\n",
    "real_x = np.array(\n",
    "    [  4.237,  -6.228,  14.687,  32.145, -27.159,  14.687, -16.693,\n",
    "    39.123,  46.097, -41.111, -20.181,  -6.228,  35.632,  63.551,\n",
    "    -51.576,  11.214, -69.02 , -48.088, -13.202,  -6.214,  14.702,\n",
    "    35.637,  77.492, -30.646,  53.074,   0.749, -72.517, -51.576,\n",
    "    -16.662,  11.217,  32.145,  67.037,  74.004, -72.506, -30.646,\n",
    "    -9.716,  53.075,  74.016, -48.091,  14.687,  35.611, -65.528,\n",
    "    -58.553,   4.236, -27.157,  49.588,  63.54 ,  77.487, -72.507,\n",
    "    -16.713,  25.146,  46.086, -41.111,   0.749,  56.562, -58.563,\n",
    "    25.166,  74.005, -69.02 , -20.181,  -6.223,  42.621, -37.624,\n",
    "    -23.664,  11.214, -69.02 ,  56.586,  77.487, -51.577, -30.632,\n",
    "    -9.716,  25.166,  67.037,  42.621,  56.562, -37.614,  -9.716,\n",
    "    11.213,  39.123,  46.097, -20.181, -16.714,  32.145,   0.75 ,\n",
    "    21.692,   4.236, -15.037, -76.175, -56.896,  27.051,  84.658,\n",
    "    61.9  ], dtype=np.float64)\n",
    "\n",
    "real_y = np.array(\n",
    "   [  9.189,  15.234,  15.229,  21.275,  27.317,  27.329,  33.359,\n",
    "    33.854,  33.359,  39.401,  39.401,  39.399,  39.399,  39.37 ,\n",
    "    45.443,  45.443,  51.485,  51.484,  51.98 ,  51.479,  51.485,\n",
    "    51.479,  51.484,  57.527,  57.527,  63.569,  69.672,  69.611,\n",
    "    69.571,  69.609,  69.611,  69.629,  69.61 ,  81.695,  81.695,\n",
    "    81.695,  81.695,  81.686,  87.739,  87.729,  87.757,  94.274,\n",
    "    93.779,  93.779,  99.819, 100.316,  99.821,  99.829, 105.863,\n",
    "    105.867, 105.842, 105.879, 111.905, 111.905, 111.904, 117.929,\n",
    "    117.947, 117.947, 123.989, 123.989, 124.003, 123.977, 130.031,\n",
    "    130.526, 130.031, 136.073, 136.079, 136.079, 142.115, 142.088,\n",
    "    142.115, 142.115, 142.129, 148.133, 148.157, 154.179, 154.199,\n",
    "    154.199, 154.694, 154.199, 160.241, 166.279, 166.283, 172.325,\n",
    "    172.314, 178.379,  12.065,  73.66 , 151.333, 173.507, 117.958,\n",
    "    34.188], dtype=np.float64)"
   ]
  },
  {
   "cell_type": "code",
   "execution_count": 3,
   "metadata": {},
   "outputs": [],
   "source": [
    "def focus_board(image, DPI, /, threshold=50, chips=[100, 100], filename='../outs/Cropped.jpg'):\n",
    "    if not filename.endswith('.png') and not filename.endswith('.jpg') and not filename.endswith('.jpeg'):\n",
    "        return\n",
    "    \n",
    "    factor = int(DPI // 600)\n",
    "    resized_img = resized_img = cv2.resize(image, (int(image.shape[1] // factor), int(image.shape[0] // factor)), interpolation=cv2.INTER_AREA)\n",
    "    result_img = image.copy()\n",
    "    \n",
    "    zeroes = np.zeros((resized_img.shape[0], resized_img.shape[1], 3), dtype=np.uint8)\n",
    "    ones = np.zeros((resized_img.shape[0], resized_img.shape[1], 3), dtype=np.uint8) + 255\n",
    "\n",
    "    p_zeroes = np.zeros((resized_img.shape[0], resized_img.shape[1]), dtype=np.uint8)\n",
    "    p_ones = np.zeros((resized_img.shape[0], resized_img.shape[1]), dtype=np.uint8) + 255\n",
    "\n",
    "    mask = np.where(resized_img[:, :, :] < 80, ones, zeroes)\n",
    "    mask = cv2.bilateralFilter(mask, d=9, sigmaColor=80, sigmaSpace=125)\n",
    "    mask = np.where((mask[:, :, 0] == 255) & (mask[:, :, 1] <= 5) & (mask[:, :, 2] == 255), p_ones, p_zeroes)\n",
    "\n",
    "    rows = np.where(np.count_nonzero(mask, 1) >= threshold)[0]\n",
    "    cols = np.where(np.count_nonzero(mask, 0) >= threshold)[0]\n",
    "\n",
    "    result_img = result_img[rows[0] * factor + chips[0] : rows[-1] * factor - chips[0], \n",
    "                            cols[0] * factor + chips[0] : cols[-1] * factor - chips[0]]\n",
    "\n",
    "    cv2.imwrite(filename, result_img)\n",
    "\n",
    "    return result_img"
   ]
  },
  {
   "cell_type": "code",
   "execution_count": 4,
   "metadata": {},
   "outputs": [],
   "source": [
    "def rotate_image(image, DPI):\n",
    "    factor = int(DPI // 600)\n",
    "    resized_img = cv2.resize(image, (int(image.shape[1] // factor), int(image.shape[0] // factor)), interpolation=cv2.INTER_AREA)\n",
    "\n",
    "    # We know image is 600DPI after resizing, thus getting the window in a static way\n",
    "    window = cv2.cvtColor(resized_img[resized_img.shape[0] - 700 : resized_img.shape[0] - 300, :], cv2.COLOR_BGR2GRAY)\n",
    "\n",
    "    circles = cv2.HoughCircles(window, cv2.HOUGH_GRADIENT, 0.8, minDist=100, param1=10, param2=34, minRadius=22, maxRadius=29)\n",
    "\n",
    "    holes = np.int64(circles)\n",
    "    holes = np.flip(holes[0, np.argsort(holes[:, :, 1])[0]], axis=0)\n",
    "\n",
    "    for hole in holes:\n",
    "        cv2.circle(window, (hole[0], hole[1]), 22, (255, 255, 255), -1)\n",
    "    plt.imshow(window)\n",
    "\n",
    "    if (holes[0][0] < holes[1][0]):\n",
    "        y2_minus_y1 = holes[0][1] - holes[1][1]\n",
    "        x2_minus_x1 = holes[0][0] - holes[1][0]\n",
    "    else:\n",
    "        y2_minus_y1 = holes[1][1] - holes[0][1]\n",
    "        x2_minus_x1 = holes[1][0] - holes[0][0]\n",
    "\n",
    "    if (x2_minus_x1 == 0): return image\n",
    "\n",
    "    angle = np.round(np.degrees(np.arctan(np.abs(y2_minus_y1 / x2_minus_x1))), 2)\n",
    "    print(angle)\n",
    "\n",
    "    # Rotating the image in opposite direction\n",
    "    rotated_img = image.copy()\n",
    "    rotation_matrix = cv2.getRotationMatrix2D((0, 0), -angle, 1)\n",
    "    rotated_img = cv2.warpAffine(rotated_img, rotation_matrix, (rotated_img.shape[1], rotated_img.shape[0]))\n",
    "\n",
    "    return rotated_img"
   ]
  },
  {
   "cell_type": "code",
   "execution_count": 16,
   "metadata": {},
   "outputs": [],
   "source": [
    "def get_holes(image, DPI):\n",
    "    factor = int(DPI // 600)\n",
    "    resized_img = cv2.resize(image, (int(image.shape[1] // factor), int(image.shape[0] // factor)), interpolation=cv2.INTER_AREA)\n",
    "\n",
    "    # getting the window for rotation-angle measurement\n",
    "    window = cv2.cvtColor(resized_img[resized_img.shape[0] - 700 : resized_img.shape[0] - 450, :], cv2.COLOR_BGR2GRAY)\n",
    "\n",
    "    circles = cv2.HoughCircles(window, cv2.HOUGH_GRADIENT, 0.8, minDist=100, param1=11, param2=34, minRadius=22, maxRadius=29)\n",
    "\n",
    "    holes = np.int64(circles)\n",
    "    holes = np.flip(holes[0, np.argsort(holes[:, :, 1])[0]], axis=0)\n",
    "    for hole in holes:\n",
    "        cv2.circle(window, (hole[0], hole[1]), 22, (255, 255, 255), -1)\n",
    "    plt.imshow(window)\n",
    "\n",
    "    ref_point = [holes[0][0] * factor, (holes[0][1] + resized_img.shape[0] - 700) * factor]\n",
    "\n",
    "    # shifting the real coords for considering hole1 as reference point or (0, 0)\n",
    "    shifted_x = real_x - real_x[0]\n",
    "    shifted_y = real_y - real_y[0]\n",
    "\n",
    "    # getting pixel-based coords from real coords\n",
    "    real_coords = np.array((shifted_x, shifted_y)).T\n",
    "    real_converted = np.int64(real_coords * DPI // 25.4)\n",
    "\n",
    "    # applying translations\n",
    "    real_pix_x = real_converted[:, 0] + ref_point[0]\n",
    "    real_pix_y = np.abs(ref_point[1] - real_converted[:, 1])\n",
    "    coords_real_pix = np.array((real_pix_x, real_pix_y, names)).T\n",
    "\n",
    "    return coords_real_pix"
   ]
  },
  {
   "cell_type": "code",
   "execution_count": 6,
   "metadata": {},
   "outputs": [],
   "source": [
    "def annotate_holes(image, holes, DPI, /, color1=(255, 255, 255), color2=(255, 255, 0), thickness1=3, radius=4, thickness2=-1, fontFace=cv2.FONT_HERSHEY_DUPLEX, fontScale=1, filename=\"../outs/All_Names.png\"):\n",
    "    if not filename.endswith('.png') and not filename.endswith('.jpg') and not filename.endswith('.jpeg'):\n",
    "        return\n",
    "\n",
    "    result_img = image.copy()\n",
    "    \n",
    "    for hole in holes:\n",
    "        cv2.putText(result_img, str(hole[2].split('_')[0]), (int(hole[0]), int(hole[1])), fontFace, fontScale * (DPI // 600), color1, thickness1 * (DPI // 600))\n",
    "        cv2.circle(result_img, (int(hole[0]), int(hole[1])), radius * (DPI // 600), color2, thickness2 * (DPI // 600))\n",
    "\n",
    "    cv2.imwrite(filename, result_img)\n",
    "    return result_img"
   ]
  },
  {
   "cell_type": "code",
   "execution_count": 79,
   "metadata": {},
   "outputs": [],
   "source": [
    "def extract(image, holes, image_DPI, /, font_size=0.8, path=\"../outs/Conventionally_named_holes/\", offset=(100, 100)):\n",
    "    if type(offset) != type(()):\n",
    "        print(\"Offset must be specified as a tuple\")\n",
    "        return\n",
    "    \n",
    "    factor = image_DPI // 600\n",
    "    x_offset, y_offset = np.array(offset) * factor\n",
    "\n",
    "    try:\n",
    "        num = 0\n",
    "        strip = None\n",
    "        for hole in holes:\n",
    "            # print(int(hole[1]) - x_offset, int(hole[1]) + x_offset, int(hole[0]) - y_offset, int(hole[0]) + y_offset)\n",
    "            cropped_hole = image[int(hole[1]) - x_offset : int(hole[1]) + x_offset, int(hole[0]) - y_offset : int(hole[0]) + y_offset]\n",
    "            if strip is None:\n",
    "                strip = np.ones((25 * factor, cropped_hole.shape[1], 3)) * 255\n",
    "            final_img = np.vstack((cropped_hole, strip.astype('uint8')))\n",
    "            cv2.putText(final_img, f\"{hole[2]}.jpg\", (5 * factor, final_img.shape[0] - 10 * factor), fontFace=cv2.FONT_HERSHEY_SIMPLEX, fontScale=, color=(0, 0, 0), thickness=1)\n",
    "            rgb_img = cv2.cvtColor(final_img, cv2.COLOR_BGR2RGB)\n",
    "            pil_img = Image.fromarray(rgb_img)\n",
    "            pil_img.save(f\"{path + hole[2]}.jpg\", dpi=(image_DPI, image_DPI))\n",
    "            num += 1\n",
    "    except:\n",
    "        return False\n",
    "    return True"
   ]
  },
  {
   "cell_type": "code",
   "execution_count": 74,
   "metadata": {},
   "outputs": [
    {
     "name": "stdout",
     "output_type": "stream",
     "text": [
      "0.61\n"
     ]
    },
    {
     "data": {
      "image/png": "[encoded data removed]",
      "text/plain": [
       "<Figure size 640x480 with 1 Axes>"
      ]
     },
     "metadata": {},
     "output_type": "display_data"
    }
   ],
   "source": [
    "# Suppressing scientific notations for printing floating point values\n",
    "np.set_printoptions(suppress=True)\n",
    "\n",
    "# Reading the image\n",
    "FILENAME = '../resources/600 DPI -PCB007.jpg'\n",
    "Image.MAX_IMAGE_PIXELS = None\n",
    "img = Image.open(fp=FILENAME, mode=\"r\")\n",
    "DPI = img.info['dpi'][0]\n",
    "img = np.array(img)\n",
    "\n",
    "# converting rgb to bgr\n",
    "img = np.flip(img, axis=-1)\n",
    "\n",
    "cropped_img = focus_board(img, DPI)\n",
    "\n",
    "rotated_img = rotate_image(cropped_img, DPI)"
   ]
  },
  {
   "cell_type": "code",
   "execution_count": 75,
   "metadata": {},
   "outputs": [
    {
     "data": {
      "image/png": "[encoded data removed]",
      "text/plain": [
       "<Figure size 640x480 with 1 Axes>"
      ]
     },
     "metadata": {},
     "output_type": "display_data"
    }
   ],
   "source": [
    "holes = get_holes(rotated_img, DPI)\n",
    "\n",
    "_ = annotate_holes(rotated_img, holes, DPI)"
   ]
  },
  {
   "cell_type": "code",
   "execution_count": 78,
   "metadata": {},
   "outputs": [
    {
     "data": {
      "text/plain": [
       "True"
      ]
     },
     "execution_count": 78,
     "metadata": {},
     "output_type": "execute_result"
    }
   ],
   "source": [
    "extract(rotated_img, holes, DPI)"
   ]
  },
  {
   "cell_type": "code",
   "execution_count": 19,
   "metadata": {},
   "outputs": [],
   "source": [
    "def get_vid(dir, filename=\"../outs/video.avi\"):\n",
    "    paths = glob.glob(dir)\n",
    "\n",
    "    if paths is None: return\n",
    "\n",
    "    images = []\n",
    "    for im_path in paths:\n",
    "        img = cv2.imread(im_path)\n",
    "        images.append(img)\n",
    "\n",
    "    fourcc = cv2.VideoWriter_fourcc(*'DIVX')\n",
    "    out = cv2.VideoWriter(filename, fourcc, 0.5, (images[0].shape[1], images[0].shape[0]), True)\n",
    "\n",
    "    for img in images:\n",
    "        out.write(img)\n",
    "    out.release()"
   ]
  },
  {
   "cell_type": "code",
   "execution_count": 20,
   "metadata": {},
   "outputs": [],
   "source": [
    "get_vid(\"e:\\\\TIFR Project\\\\combine\\\\outs\\\\Conventionally_named_holes\\\\*.jpg\")"
   ]
  },
  {
   "cell_type": "code",
   "execution_count": 13,
   "metadata": {},
   "outputs": [],
   "source": [
    "# %timeit extract(rotated_img, holes, DPI)"
   ]
  },
  {
   "cell_type": "code",
   "execution_count": 14,
   "metadata": {},
   "outputs": [],
   "source": [
    "def timers_function(img, DPI):\n",
    "    cropped_img = focus_board(img, DPI)\n",
    "    rotated_img = rotate_image(cropped_img, DPI)\n",
    "\n",
    "    holes = get_holes(rotated_img, DPI)\n",
    "    _ = annotate_holes(rotated_img, holes, DPI)\n",
    "\n",
    "    extract(cropped_img, holes, DPI)\n",
    "    get_vid(\"e:\\\\TIFR Project\\\\combine\\\\outs\\\\Conventionally_named_holes\\\\*.jpg\")"
   ]
  },
  {
   "cell_type": "code",
   "execution_count": 15,
   "metadata": {},
   "outputs": [],
   "source": [
    "# # Reading the image\n",
    "# Image.MAX_IMAGE_PIXELS = None\n",
    "# for FILENAME in ['../resources/600 DPI -PCB007.jpg', '../resources/1200 DPI -PCB008.jpg', '../resources/800 RS -PCB006.jpg']:\n",
    "#     img = Image.open(fp=FILENAME, mode=\"r\")\n",
    "#     DPI = img.info['dpi'][0]\n",
    "#     img = np.array(img)\n",
    "#     img = np.flip(img, axis=-1)\n",
    "\n",
    "#     %timeit -c timers_function(img, DPI)"
   ]
  }
 ],
 "metadata": {
  "kernelspec": {
   "display_name": "Python 3",
   "language": "python",
   "name": "python3"
  },
  "language_info": {
   "codemirror_mode": {
    "name": "ipython",
    "version": 3
   },
   "file_extension": ".py",
   "mimetype": "text/x-python",
   "name": "python",
   "nbconvert_exporter": "python",
   "pygments_lexer": "ipython3",
   "version": "3.9.10"
  }
 },
 "nbformat": 4,
 "nbformat_minor": 2
}
