{
 "cells": [
  {
   "cell_type": "code",
   "execution_count": 3,
   "metadata": {},
   "outputs": [],
   "source": [
    "import cv2\n",
    "import numpy as np\n",
    "import matplotlib.pyplot as plt\n",
    "from PIL import Image\n",
    "import os\n",
    "import glob"
   ]
  },
  {
   "cell_type": "code",
   "execution_count": 4,
   "metadata": {},
   "outputs": [],
   "source": [
    "names = np.array([\n",
    "    \"S001_999_096_999\",\n",
    "    \"S002_082_081_066\",\n",
    "    \"S003_113_112_097\",\n",
    "    \"S004_128_141_127\",\n",
    "    \"S005_053_052_040\",\n",
    "    \"S006_114_113_098\",\n",
    "    \"S007_999_067_999\",\n",
    "    \"S008_142_999_999\",\n",
    "    \"S009_157_156_999\",\n",
    "    \"S010_999_041_029\",\n",
    "    \"S011_054_999_999\",\n",
    "    \"S012_084_083_068\",\n",
    "    \"S013_999_143_129\",\n",
    "    \"S014_170_180_169\",\n",
    "    \"S015_020_030_019\",\n",
    "    \"S016_999_999_099\",\n",
    "    \"S017_010_009_001\",\n",
    "    \"S018_031_999_999\",\n",
    "    \"S019_070_999_999\",\n",
    "    \"S020_999_999_069\",\n",
    "    \"S021_116_115_100\",\n",
    "    \"S022_045_144_130\",\n",
    "    \"S023_191_190_181\",\n",
    "    \"S024_043_055_042\",\n",
    "    \"S025_159_171_158\",\n",
    "    \"S026_086_999_085\",\n",
    "    \"S027_003_011_002\",\n",
    "    \"S028_022_032_021\",\n",
    "    \"S029_072_071_056\",\n",
    "    \"S030_102_117_101\",\n",
    "    \"S031_132_146_131\",\n",
    "    \"S032_999_999_172\",\n",
    "    \"S033_183_192_182\",\n",
    "    \"S034_004_012_999\",\n",
    "    \"S035_045_999_044\",\n",
    "    \"S036_073_087_999\",\n",
    "    \"S037_161_173_160\",\n",
    "    \"S038_184_193_999\",\n",
    "    \"S039_034_033_023\",\n",
    "    \"S040_119_118_999\",\n",
    "    \"S041_148_147_133\",\n",
    "    \"S042_014_999_999\",\n",
    "    \"S043_024_999_013\",\n",
    "    \"S044_104_103_088\",\n",
    "    \"S045_059_058_046\",\n",
    "    \"S046_163_999_999\",\n",
    "    \"S047_999_999_174\",\n",
    "    \"S048_195_194_185\",\n",
    "    \"S049_006_015_005\",\n",
    "    \"S050_075_074_999\",\n",
    "    \"S051_999_134_120\",\n",
    "    \"S052_999_163_149\",\n",
    "    \"S053_036_047_035\",\n",
    "    \"S054_999_105_089\",\n",
    "    \"S055_176_175_164\",\n",
    "    \"S056_026_025_999\",\n",
    "    \"S057_136_135_121\",\n",
    "    \"S058_187_196_186\",\n",
    "    \"S059_017_016_007\",\n",
    "    \"S060_061_076_060\",\n",
    "    \"S061_091_090_076\",\n",
    "    \"S062_151_165_150\",\n",
    "    \"S063_049_048_037\",\n",
    "    \"S064_062_999_999\",\n",
    "    \"S065_107_122_106\",\n",
    "    \"S066_018_999_008\",\n",
    "    \"S067_178_177_166\",\n",
    "    \"S068_198_197_188\",\n",
    "    \"S069_028_038_027\",\n",
    "    \"S070_999_063_999\",\n",
    "    \"S071_078_092_077\",\n",
    "    \"S072_138_137_123\",\n",
    "    \"S073_189_999_999\",\n",
    "    \"S074_153_999_152\",\n",
    "    \"S075_179_999_167\",\n",
    "    \"S076_051_050_039\",\n",
    "    \"S077_999_093_999\",\n",
    "    \"S078_109_124_108\",\n",
    "    \"S079_154_999_999\",\n",
    "    \"S080_168_999_999\",\n",
    "    \"S081_065_079_064\",\n",
    "    \"S082_080_999_999\",\n",
    "    \"S083_140_155_139\",\n",
    "    \"S084_999_999_094\",\n",
    "    \"S085_126_999_125\",\n",
    "    \"S086_111_110_095\",\n",
    "    \"S087_999_999_999\",\n",
    "    \"S088_999_999_999\",\n",
    "    \"S089_999_999_999\",\n",
    "    \"S090_999_999_999\",\n",
    "    \"S091_999_999_999\",\n",
    "    \"S092_999_999_999\",\n",
    "])\n",
    "\n",
    "real_x = np.array(\n",
    "    [ -0.005, -10.47 ,  10.445,  27.903, -31.401,  10.445, -20.935,\n",
    "        34.881,  41.855, -45.353, -24.423, -10.47 ,  31.39 ,  59.309,\n",
    "       -55.818,   6.972, -73.262, -52.33 , -17.444, -10.456,  10.46 ,\n",
    "        31.395,  73.25 , -34.888,  48.832,  -3.493, -76.759, -55.818,\n",
    "       -20.904,   6.975,  27.903,  62.795,  69.762, -76.748, -34.888,\n",
    "       -13.958,  48.833,  69.774, -52.333,  10.445,  31.369, -69.77 ,\n",
    "       -62.795,  -0.006, -31.399,  45.346,  59.298,  73.245, -76.749,\n",
    "       -20.955,  20.904,  41.844, -45.353,  -3.493,  52.32 , -62.805,\n",
    "        20.924,  69.763, -73.262, -24.423, -10.465,  38.379, -41.866,\n",
    "       -27.906,   6.972, -73.262,  52.344,  73.245, -55.819, -34.874,\n",
    "       -13.958,  20.924,  62.795,  38.379,  52.32 , -41.856, -13.958,\n",
    "         6.971,  34.881,  41.855, -24.423, -20.956,  27.903,  -3.492,\n",
    "        17.45 ,  -0.006, -19.279, -80.417, -61.138,  22.809,  80.416,\n",
    "        57.658], dtype=np.float64)\n",
    "\n",
    "real_y = np.array(\n",
    "    [ 11.729,  17.774,  17.769,  23.815,  29.857,  29.869,  35.899,\n",
    "        36.394,  35.899,  41.941,  41.941,  41.939,  41.939,  41.91 ,\n",
    "        47.983,  47.983,  54.025,  54.024,  54.52 ,  54.019,  54.025,\n",
    "        54.019,  54.024,  60.067,  60.067,  66.109,  72.212,  72.151,\n",
    "        72.111,  72.149,  72.151,  72.169,  72.15 ,  84.235,  84.235,\n",
    "        84.235,  84.235,  84.226,  90.279,  90.269,  90.297,  96.814,\n",
    "        96.319,  96.319, 102.359, 102.856, 102.361, 102.369, 108.403,\n",
    "       108.407, 108.382, 108.419, 114.445, 114.445, 114.444, 120.469,\n",
    "       120.487, 120.487, 126.529, 126.529, 126.543, 126.517, 132.571,\n",
    "       133.066, 132.571, 138.613, 138.619, 138.619, 144.655, 144.628,\n",
    "       144.655, 144.655, 144.669, 150.673, 150.697, 156.719, 156.739,\n",
    "       156.739, 157.234, 156.739, 162.781, 168.819, 168.823, 174.865,\n",
    "       174.854, 180.919,  14.605,  76.2  , 153.873, 176.047, 120.498,\n",
    "        36.728], dtype=np.float64)"
   ]
  },
  {
   "cell_type": "code",
   "execution_count": 5,
   "metadata": {},
   "outputs": [],
   "source": [
    "def pre_process(image, /, filename='../outs/Lines/ProcessedImage.png'):\n",
    "    if not filename.endswith('.png') and not filename.endswith('.jpg') and not filename.endswith('.jpeg'):\n",
    "        return\n",
    "    result_img = image.copy()\n",
    "    result_img[np.where((result_img[:, :, 0] == 0) & (result_img[:, :, 1] == 0) & (result_img[:, :, 2] == 0))] = [255, 255, 255]\n",
    "\n",
    "    # smoothing the colors by blurring the image\n",
    "    result_img = cv2.bilateralFilter(result_img, d=9, sigmaColor=80, sigmaSpace=90)\n",
    "\n",
    "    # converting the image blacks to white, and darkening rest of the image\n",
    "    zeroes = np.zeros((image.shape[0], image.shape[1]), dtype=np.uint8)\n",
    "    ones = np.zeros((image.shape[0], image.shape[1]), dtype=np.uint8) + 255\n",
    "\n",
    "    result_img = np.where((result_img[:, :, 0] <= 60) & (result_img[:, :, 1] <= 51) & (result_img[:, :, 2] <= 65), ones, zeroes)\n",
    "    \n",
    "    kernel = np.ones((5, 5), dtype=np.uint8)\n",
    "    result_img = cv2.erode(result_img, kernel=kernel, iterations=1)\n",
    "\n",
    "    result_img = cv2.bitwise_not(result_img)\n",
    "    # cv2.imwrite(\"TempProcessed.png\", result_img)\n",
    "\n",
    "    result_img = cv2.Canny(result_img, 200, 250, apertureSize=3, L2gradient=True)\n",
    "    # cv2.imwrite(\"../temp/TempProcessed2.png\", result_img)\n",
    "\n",
    "    # dilating for better lines\n",
    "    kernel = np.ones((3, 2), dtype=np.uint8)\n",
    "    result_img = cv2.dilate(result_img, kernel=kernel, iterations=1)\n",
    "\n",
    "    if filename.endswith('png') or filename.endswith('jpg') or filename.endswith('jpeg'):\n",
    "        cv2.imwrite(filename, result_img)\n",
    "\n",
    "    return result_img"
   ]
  },
  {
   "cell_type": "code",
   "execution_count": 6,
   "metadata": {},
   "outputs": [],
   "source": [
    "def focus_board(image, DPI, /, threshold=50, chips=[100, 50], filename='../outs/CropImage/Result.jpg'):\n",
    "    if not filename.endswith('.png') and not filename.endswith('.jpg') and not filename.endswith('.jpeg'):\n",
    "        return\n",
    "\n",
    "    factor = int(DPI // 600)\n",
    "    resized_img = cv2.resize(image, (int(image.shape[1] // factor), int(image.shape[0] // factor)), interpolation=cv2.INTER_AREA)\n",
    "    result_img = image.copy()\n",
    "    \n",
    "    zeroes = np.zeros((resized_img.shape[0], resized_img.shape[1], 3), dtype=np.uint8)\n",
    "    ones = np.zeros((resized_img.shape[0], resized_img.shape[1], 3), dtype=np.uint8) + 255\n",
    "\n",
    "    p_zeroes = np.zeros((resized_img.shape[0], resized_img.shape[1]), dtype=np.uint8)\n",
    "    p_ones = np.zeros((resized_img.shape[0], resized_img.shape[1]), dtype=np.uint8) + 255\n",
    "\n",
    "    mask = np.where(resized_img[:, :, :] < 80, ones, zeroes)\n",
    "    mask = cv2.bilateralFilter(mask, d=9, sigmaColor=80, sigmaSpace=125)\n",
    "    mask = np.where((mask[:, :, 0] == 255) & (mask[:, :, 1] <= 5) & (mask[:, :, 2] == 255), p_ones, p_zeroes)\n",
    "\n",
    "    rows = np.where(np.count_nonzero(mask, 1) >= threshold)[0]\n",
    "    cols = np.where(np.count_nonzero(mask, 0) >= threshold)[0]\n",
    "\n",
    "    result_img = result_img[rows[0] * factor + chips[0] : rows[-1] * factor - chips[0], \n",
    "                            cols[0] * factor + chips[1] : cols[-1] * factor - chips[1]]\n",
    "\n",
    "    cv2.imwrite(filename, result_img)\n",
    "\n",
    "    return result_img"
   ]
  },
  {
   "cell_type": "code",
   "execution_count": 7,
   "metadata": {},
   "outputs": [],
   "source": [
    "def rotate_image(image, DPI):\n",
    "    factor = int(DPI // 600)\n",
    "    resized_img = cv2.resize(image, (int(image.shape[1] // factor), int(image.shape[0] // factor)), interpolation=cv2.INTER_AREA)\n",
    "\n",
    "    # We know image is 600DPI after resizing, thus getting the window in a static way\n",
    "    window = cv2.cvtColor(resized_img[resized_img.shape[0] - 700 : resized_img.shape[0] - 300, :], cv2.COLOR_BGR2GRAY)\n",
    "\n",
    "    circles = cv2.HoughCircles(window, cv2.HOUGH_GRADIENT, 0.8, minDist=100, param1=11, param2=34, minRadius=22, maxRadius=29)\n",
    "\n",
    "    holes = np.int64(circles)\n",
    "    holes = np.flip(holes[0, np.argsort(holes[:, :, 1])[0]], axis=0)\n",
    "\n",
    "    for hole in holes:\n",
    "        cv2.circle(window, (hole[0], hole[1]), 22, (255, 255, 255), -1)\n",
    "    plt.imshow(window)\n",
    "\n",
    "    if (holes[0][0] < holes[1][0]):\n",
    "        y2_minus_y1 = holes[0][1] - holes[1][1]\n",
    "        x2_minus_x1 = holes[0][0] - holes[1][0]\n",
    "    else:\n",
    "        y2_minus_y1 = holes[1][1] - holes[0][1]\n",
    "        x2_minus_x1 = holes[1][0] - holes[0][0]\n",
    "\n",
    "    if (x2_minus_x1 == 0): return image\n",
    "\n",
    "    angle = np.round(np.degrees(np.arctan(np.abs(y2_minus_y1 / x2_minus_x1))), 2)\n",
    "    print(angle)\n",
    "\n",
    "    # Rotating the image in opposite direction\n",
    "    rotated_img = image.copy()\n",
    "    rotation_matrix = cv2.getRotationMatrix2D((0, 0), -angle, 1)\n",
    "    rotated_img = cv2.warpAffine(rotated_img, rotation_matrix, (rotated_img.shape[1], rotated_img.shape[0]))\n",
    "\n",
    "    return rotated_img"
   ]
  },
  {
   "cell_type": "code",
   "execution_count": 8,
   "metadata": {},
   "outputs": [],
   "source": [
    "def populate(line, lineLength):\n",
    "    rho, theta = line\n",
    "\n",
    "    a = np.cos(theta)\n",
    "    b = np.sin(theta)\n",
    "\n",
    "    x0 = int(round(a * rho))\n",
    "    y0 = int(round(b * rho))\n",
    "\n",
    "    # getting coords of second endpoint\n",
    "    x1 = int(round(x0 + lineLength * (-b)))\n",
    "    y1 = int(round(y0 + lineLength * (a)))\n",
    "    x2 = int(round(x0 - lineLength * (-b)))\n",
    "    y2 = int(round(y0 - lineLength * (a)))\n",
    "\n",
    "    return np.array([(x1, y1), (x2, y2)], dtype=np.int64)"
   ]
  },
  {
   "cell_type": "code",
   "execution_count": 9,
   "metadata": {},
   "outputs": [],
   "source": [
    "def dist(point1, point2):\n",
    "    (x1, y1), (x2, y2) = point1, point2\n",
    "    return np.sqrt(np.power(x2 - x1, 2) + np.power(y2 - y1, 2))"
   ]
  },
  {
   "cell_type": "code",
   "execution_count": 10,
   "metadata": {},
   "outputs": [],
   "source": [
    "def slope(points):\n",
    "    return np.inf if (points[1][0] - points[0][0]) == 0 else (points[1][1] - points[0][1]) / (points[1][0] - points[0][0])"
   ]
  },
  {
   "cell_type": "code",
   "execution_count": 11,
   "metadata": {},
   "outputs": [],
   "source": [
    "def point_of_intersection(line1, line2):\n",
    "    x1, y1, x2, y2 = line1[0, 0], line1[0, 1], line1[1, 0], line1[1, 1]\n",
    "    x3, y3, x4, y4 = line2[0, 0], line2[0, 1], line2[1, 0], line2[1, 1]\n",
    "\n",
    "    # Solve the system of equations to find the intersection point\n",
    "    det = (x1 - x2) * (y3 - y4) - (y1 - y2) * (x3 - x4)\n",
    "    if det == 0:\n",
    "        # Lines are parallel, no intersection\n",
    "        return None\n",
    "\n",
    "    x = int(((x1 * y2 - y1 * x2) * (x3 - x4) - (x1 - x2) * (x3 * y4 - y3 * x4)) / det)\n",
    "    y = int(((x1 * y2 - y1 * x2) * (y3 - y4) - (y1 - y2) * (x3 * y4 - y3 * x4)) / det)\n",
    "\n",
    "    return x, y\n",
    "        "
   ]
  },
  {
   "cell_type": "code",
   "execution_count": 12,
   "metadata": {},
   "outputs": [],
   "source": [
    "def merge(lines):\n",
    "    l_list = []\n",
    "    h_list = []\n",
    "\n",
    "    index, inn_index = 0, len(lines) - 1\n",
    "    while index < inn_index:\n",
    "        change = False\n",
    "        if len(l_list) == 0 or abs(l_list[0][0] - lines[index][0]) < 10:\n",
    "            l_list.append(lines[index])\n",
    "            index += 1\n",
    "            change = True\n",
    "        if len(h_list) == 0 or abs(h_list[0][0] - lines[inn_index][0]) < 10:\n",
    "            h_list.append(lines[inn_index])\n",
    "            inn_index -= 1\n",
    "            change = True\n",
    "        if not change: break\n",
    "\n",
    "    return l_list[0], h_list[0]"
   ]
  },
  {
   "cell_type": "code",
   "execution_count": 13,
   "metadata": {},
   "outputs": [],
   "source": [
    "def get_lines(image, /, lineLength=1000, threshold=215, slopeParam=(-60, 60)):    \n",
    "    gray_img = image.copy()\n",
    "\n",
    "    # Defining rho and theta parameters:\n",
    "    rho = 0.9\n",
    "    theta = np.pi / 180 * 1.3\n",
    "\n",
    "    # for hexagon, we require lines at angle of 60°, 0° or -60°.\n",
    "    # note, hough lines are based Hesse Normal Form, thus the actual line is perpendicular to the line formed by rho and theta.\n",
    "    # Thus, vertical is 0° and horizontal is 90°.\n",
    "    min_theta = slopeParam[0] * np.pi / 180\n",
    "    max_theta = slopeParam[1] * np.pi / 180\n",
    "\n",
    "    lines = cv2.HoughLines(gray_img, rho, theta, threshold, min_theta=min_theta, max_theta=max_theta)\n",
    "\n",
    "    # filtering lines with theta as 60, -60 and 90 into respective np.ndarrays\n",
    "    lines_60 = lines[np.round(np.degrees(lines[:, :, 1])) == 60]\n",
    "    lines_n60 = lines[np.round(np.degrees(lines[:, :, 1])) == -60]\n",
    "    lines_90 = lines[np.round(np.degrees(lines[:, :, 1])) == 0]\n",
    "\n",
    "    # Sorting the columns in the arrays. Since the theta for all lines are same in an array, the pair of rho and theta is maintained.\n",
    "    lines_60.sort(axis=0)\n",
    "    lines_n60.sort(axis=0)\n",
    "    lines_90.sort(axis=0)\n",
    "\n",
    "    # Getting the final edges for the hexagon\n",
    "    lines_60 = merge(lines_60)\n",
    "    lines_n60 = merge(lines_n60)\n",
    "    lines_90 = merge(lines_90)\n",
    "    hex_lines = np.array([populate(lines_60[0], lineLength), populate(lines_60[1], lineLength)\n",
    "                    , populate(lines_n60[0], lineLength), populate(lines_n60[1], lineLength)\n",
    "                    , populate(lines_90[0], lineLength), populate(lines_90[1], lineLength)])\n",
    "    \n",
    "    for line in hex_lines:\n",
    "        x1, y1 = line[0]\n",
    "        x2, y2 = line[1]\n",
    "        success, (x1, y1), (x2, y2) = cv2.clipLine((0, 0, image.shape[1], image.shape[0]), (x1, y1), (x2, y2))\n",
    "        if success:\n",
    "            line[0] = (x1, y1)\n",
    "            line[1] = (x2, y2)\n",
    "    \n",
    "    return hex_lines"
   ]
  },
  {
   "cell_type": "code",
   "execution_count": 14,
   "metadata": {},
   "outputs": [],
   "source": [
    "def clip_to_intersection(image, lineset):\n",
    "    vertices = []\n",
    "\n",
    "    for index in range(len(lineset)):\n",
    "        for inn_index in range(index + 1, len(lineset)):\n",
    "            vertex = point_of_intersection(lineset[index], lineset[inn_index])\n",
    "            if vertex != None and 0 < vertex[0] < image.shape[1] and 0 < vertex[1] < image.shape[0]:\n",
    "                if dist(lineset[index][0], vertex) <= dist(lineset[index][1], vertex): lineset[index][0] = vertex \n",
    "                else: lineset[index][1] = vertex\n",
    "\n",
    "                if dist(lineset[inn_index][0], vertex) <= dist(lineset[inn_index][1], vertex): lineset[inn_index][0] = vertex \n",
    "                else: lineset[inn_index][1] = vertex\n",
    "\n",
    "                vertices.append(vertex)\n",
    "    \n",
    "    return vertices"
   ]
  },
  {
   "cell_type": "code",
   "execution_count": 15,
   "metadata": {},
   "outputs": [],
   "source": [
    "def get_holes(ref_point, DPI):\n",
    "    # getting pixel-based coords from real coords\n",
    "    real_coords = np.array((real_x, real_y)).T\n",
    "    real_converted = np.int64(real_coords * DPI // 25.4)\n",
    "\n",
    "    # applying translations\n",
    "    real_pix_x = real_converted[:, 0] + ref_point[0]\n",
    "    real_pix_y = np.abs(ref_point[1] - real_converted[:, 1])\n",
    "    coords_real_pix = np.array((real_pix_x, real_pix_y, names)).T\n",
    "\n",
    "    return coords_real_pix"
   ]
  },
  {
   "cell_type": "code",
   "execution_count": 16,
   "metadata": {},
   "outputs": [],
   "source": [
    "def annotate(image, DPI, /, lines=None, vertices=None, holes=None, color1=(0, 0, 255), color2=(255, 255, 0), color3=(255, 255, 255), thickness1=3, thickness2=10, thickness3=7, radius = 4, fontFace=cv2.FONT_HERSHEY_DUPLEX, fontScale=1, filename=\"../outs/Final_Main_Lines.png\"):\n",
    "    if not filename.endswith('.png') and not filename.endswith('.jpg') and not filename.endswith('.jpeg'):\n",
    "        return\n",
    "    \n",
    "    result_img = image.copy()\n",
    "\n",
    "    if lines is not None:\n",
    "        for line in lines:\n",
    "            cv2.line(result_img, line[0], line[1], color1, thickness1)\n",
    "\n",
    "    if vertices is not None:\n",
    "        for vertex in vertices:\n",
    "            cv2.line(result_img, (vertex[0], vertex[1]), (vertex[0] + 1, vertex[1]), color2, thickness2)\n",
    "\n",
    "    if holes is not None:\n",
    "        for hole in holes:\n",
    "            cv2.putText(result_img, str(hole[2].split('_')[0]), (int(hole[0]), int(hole[1])), fontFace, fontScale * (DPI // 600), color3, thickness1 * (DPI // 600))\n",
    "            cv2.circle(result_img, (int(hole[0]), int(hole[1])), radius * (DPI // 600), color2, thickness3 * (DPI // 600))\n",
    "    \n",
    "    cv2.imwrite(filename, result_img)\n",
    "    \n",
    "    return result_img"
   ]
  },
  {
   "cell_type": "code",
   "execution_count": 17,
   "metadata": {},
   "outputs": [],
   "source": [
    "def annotate_lines(image, lines, /, color=(0, 0, 255), thickness=3, filename=\"../outs/Detection_Main_Lines.png\"):\n",
    "    if not filename.endswith('.png') and not filename.endswith('.jpg') and not filename.endswith('.jpeg'):\n",
    "        return \n",
    "    \n",
    "    result_img = image.copy()\n",
    "\n",
    "    for line in lines:\n",
    "        cv2.line(result_img, line[0], line[1], color, thickness)\n",
    "            \n",
    "    cv2.imwrite(filename, result_img)\n",
    "\n",
    "    return result_img"
   ]
  },
  {
   "cell_type": "code",
   "execution_count": 18,
   "metadata": {},
   "outputs": [],
   "source": [
    "def annotate_holes(image, holes, DPI, /, color1=(255, 255, 255), color2=(255, 255, 0), thickness1=3, radius=4, thickness2=-1, fontFace=cv2.FONT_HERSHEY_DUPLEX, fontScale=1, filename=\"../outs/All_Names_vL.png\"):\n",
    "    if not filename.endswith('.png') and not filename.endswith('.jpg') and not filename.endswith('.jpeg'):\n",
    "        return\n",
    "\n",
    "    result_img = image.copy()\n",
    "    \n",
    "    for hole in holes:\n",
    "        cv2.putText(result_img, str(hole[2].split('_')[0]), (int(hole[0]), int(hole[1])), fontFace, fontScale * (DPI // 600), color1, thickness1 * (DPI // 600))\n",
    "        cv2.circle(result_img, (int(hole[0]), int(hole[1])), radius * (DPI // 600), color2, thickness2 * (DPI // 600))\n",
    "\n",
    "    cv2.imwrite(filename, result_img)\n",
    "    return result_img"
   ]
  },
  {
   "cell_type": "code",
   "execution_count": 19,
   "metadata": {},
   "outputs": [],
   "source": [
    "def annotate_points(image, vertices, /, color=(0, 0, 255), thickness=3, filename=\"../outs/Vertices_Main_Lines.png\"):\n",
    "    if not filename.endswith('.png') and not filename.endswith('.jpg') and not filename.endswith('.jpeg'):\n",
    "        return \n",
    "    \n",
    "    result_img = image.copy()\n",
    "\n",
    "    for vertex in vertices:\n",
    "        cv2.line(result_img, (vertex[0], vertex[1]), (vertex[0] + 1, vertex[1]), color, thickness)\n",
    "        \n",
    "    cv2.imwrite(filename, result_img)\n",
    "    \n",
    "    return result_img"
   ]
  },
  {
   "cell_type": "code",
   "execution_count": 1,
   "metadata": {},
   "outputs": [],
   "source": [
    "def extract(image, holes, image_DPI, /, path=\"../outs/Conventionally_named_holes/\", offset=(100, 100)):\n",
    "    if type(offset) != type(()):\n",
    "        print(\"Offset must be specified as a tuple\")\n",
    "        return\n",
    "    \n",
    "    factor = image_DPI // 600\n",
    "    offset = np.array(offset)\n",
    "    x_offset, y_offset = offset * factor\n",
    "\n",
    "    try:\n",
    "        num = 0\n",
    "        strip = None\n",
    "        for hole in holes:\n",
    "            # print(int(hole[1]) - x_offset, int(hole[1]) + x_offset, int(hole[0]) - y_offset, int(hole[0]) + y_offset)\n",
    "            cropped_hole = image[int(hole[1]) - x_offset : int(hole[1]) + x_offset, int(hole[0]) - y_offset : int(hole[0]) + y_offset]\n",
    "            if strip is None:\n",
    "                strip = np.ones((100, cropped_hole.shape[1], 3)) * 255\n",
    "            final_img = np.vstack((cropped_hole, strip.astype('uint8')))\n",
    "            rgb_img = cv2.cvtColor(cropped_hole, cv2.COLOR_BGR2RGB)\n",
    "            pil_img = Image.fromarray(rgb_img)\n",
    "            cv2.putText(final_img, f\"{hole[2]}.jpg\", (25, final_img.shape[0] - 45), fontFace=cv2.FONT_HERSHEY_SIMPLEX, fontScale=1, color=(0, 0, 0), thickness=2)\n",
    "            pil_img.save(f\"{path + hole[2]}.jpg\", dpi=(image_DPI, image_DPI))\n",
    "            num += 1\n",
    "    except:\n",
    "        return False\n",
    "    return True"
   ]
  },
  {
   "cell_type": "code",
   "execution_count": 20,
   "metadata": {},
   "outputs": [],
   "source": [
    "# Suppressing scientific notations for printing floating point values\n",
    "np.set_printoptions(suppress=True)\n",
    "\n",
    "# Reading the image\n",
    "FILENAME = '../resources/600 DPI -PCB007.jpg'\n",
    "Image.MAX_IMAGE_PIXELS = None\n",
    "img = Image.open(fp=FILENAME, mode=\"r\")\n",
    "DPI = img.info['dpi'][0]\n",
    "img = np.array(img)\n",
    "\n",
    "# converting rgb to bgr\n",
    "img = np.flip(img, axis=-1)\n",
    "\n",
    "cropped_img = focus_board(img, DPI)"
   ]
  },
  {
   "cell_type": "code",
   "execution_count": 21,
   "metadata": {},
   "outputs": [
    {
     "name": "stdout",
     "output_type": "stream",
     "text": [
      "0.61\n"
     ]
    },
    {
     "data": {
      "image/png": "[encoded data removed]",
      "text/plain": [
       "<Figure size 640x480 with 1 Axes>"
      ]
     },
     "metadata": {},
     "output_type": "display_data"
    }
   ],
   "source": [
    "rotated_img = rotate_image(cropped_img, DPI)\n",
    "\n",
    "processed_img = pre_process(rotated_img)"
   ]
  },
  {
   "cell_type": "code",
   "execution_count": 22,
   "metadata": {},
   "outputs": [],
   "source": [
    "lines = get_lines(processed_img, lineLength=10000)\n",
    "\n",
    "_ = annotate_lines(rotated_img, lines, thickness=2)"
   ]
  },
  {
   "cell_type": "code",
   "execution_count": 23,
   "metadata": {},
   "outputs": [
    {
     "data": {
      "text/plain": [
       "array([[[   0, 1454],\n",
       "        [2477,    0]],\n",
       "\n",
       "       [[1805, 5076],\n",
       "        [4254, 3639]],\n",
       "\n",
       "       [[2407, 5076],\n",
       "        [   0, 3686]],\n",
       "\n",
       "       [[4254, 1474],\n",
       "        [1701,    0]],\n",
       "\n",
       "       [[  83, 5076],\n",
       "        [  65,    0]],\n",
       "\n",
       "       [[4117, 5076],\n",
       "        [4099,    0]]], dtype=int64)"
      ]
     },
     "execution_count": 23,
     "metadata": {},
     "output_type": "execute_result"
    }
   ],
   "source": [
    "lines"
   ]
  },
  {
   "cell_type": "code",
   "execution_count": 24,
   "metadata": {},
   "outputs": [],
   "source": [
    "vertices = np.array(clip_to_intersection(rotated_img, lines), dtype=np.int64)\n",
    "\n",
    "pointy_img = annotate_points(rotated_img, vertices, color=(255, 255, 0), thickness=10)\n",
    "\n",
    "_ = annotate_lines(pointy_img, lines, thickness=10, filename=\"../outs/ClippedLines_Main_Lines.png\")"
   ]
  },
  {
   "cell_type": "code",
   "execution_count": 25,
   "metadata": {},
   "outputs": [
    {
     "data": {
      "text/plain": [
       "array([[[  70, 1412],\n",
       "        [2092,  225]],\n",
       "\n",
       "       [[2103, 4900],\n",
       "        [4112, 3722]],\n",
       "\n",
       "       [[2103, 4900],\n",
       "        [  78, 3731]],\n",
       "\n",
       "       [[4103, 1387],\n",
       "        [2092,  225]],\n",
       "\n",
       "       [[  78, 3731],\n",
       "        [  70, 1412]],\n",
       "\n",
       "       [[4112, 3722],\n",
       "        [4103, 1387]]], dtype=int64)"
      ]
     },
     "execution_count": 25,
     "metadata": {},
     "output_type": "execute_result"
    }
   ],
   "source": [
    "lines"
   ]
  },
  {
   "cell_type": "code",
   "execution_count": 26,
   "metadata": {},
   "outputs": [
    {
     "data": {
      "text/plain": [
       "array([[2092,  225],\n",
       "       [  70, 1412],\n",
       "       [2103, 4900],\n",
       "       [4112, 3722],\n",
       "       [  78, 3731],\n",
       "       [4103, 1387]], dtype=int64)"
      ]
     },
     "execution_count": 26,
     "metadata": {},
     "output_type": "execute_result"
    }
   ],
   "source": [
    "vertices"
   ]
  },
  {
   "cell_type": "code",
   "execution_count": 27,
   "metadata": {},
   "outputs": [],
   "source": [
    "vertices = np.flip(vertices[np.argsort(vertices[:, 1])], axis=0)\n",
    "\n",
    "holes = get_holes(vertices[0], DPI)\n",
    "\n",
    "_ = annotate_holes(rotated_img, holes, DPI)"
   ]
  },
  {
   "cell_type": "code",
   "execution_count": 28,
   "metadata": {},
   "outputs": [],
   "source": [
    "_ = annotate(rotated_img, DPI, lines=lines, vertices=vertices, holes=holes, thickness1=10, thickness2=20, thickness3=10)"
   ]
  },
  {
   "cell_type": "code",
   "execution_count": 29,
   "metadata": {},
   "outputs": [
    {
     "data": {
      "text/plain": [
       "True"
      ]
     },
     "execution_count": 29,
     "metadata": {},
     "output_type": "execute_result"
    }
   ],
   "source": [
    "extract(rotated_img, holes, DPI)"
   ]
  },
  {
   "cell_type": "code",
   "execution_count": 30,
   "metadata": {},
   "outputs": [],
   "source": [
    "def get_vid(dir, filename=\"../outs/video.avi\"):\n",
    "    paths = glob.glob(dir)\n",
    "\n",
    "    if paths is None: return\n",
    "\n",
    "    images = []\n",
    "    for im_path in paths:\n",
    "        img = cv2.imread(im_path)\n",
    "        images.append(img)\n",
    "\n",
    "    fourcc = cv2.VideoWriter_fourcc(*'DIVX')\n",
    "    out = cv2.VideoWriter(filename, fourcc, 0.5, (images[0].shape[1], images[0].shape[0]), True)\n",
    "\n",
    "    for img in images:\n",
    "        out.write(img)\n",
    "    out.release()"
   ]
  },
  {
   "cell_type": "code",
   "execution_count": 31,
   "metadata": {},
   "outputs": [],
   "source": [
    "get_vid(\"e:\\\\TIFR Project\\\\combine\\\\outs\\\\Conventionally_named_holes\\\\*.jpg\")"
   ]
  },
  {
   "cell_type": "code",
   "execution_count": null,
   "metadata": {},
   "outputs": [],
   "source": [
    "# %timeit extract(rotated_img, holes, DPI)"
   ]
  },
  {
   "cell_type": "code",
   "execution_count": 41,
   "metadata": {},
   "outputs": [],
   "source": [
    "def timers_function(image, DPI):\n",
    "    cropped_img = focus_board(image, DPI, chips=(0, 100))\n",
    "    rotated_img = rotate_image(cropped_img, DPI)\n",
    "    processed_img = pre_process(rotated_img)\n",
    "\n",
    "    lines = get_lines(processed_img, lineLength=10000)\n",
    "    _ = annotate_lines(rotated_img, lines, thickness=12)\n",
    "\n",
    "    vertices = np.array(clip_to_intersection(rotated_img, lines), dtype=np.int64)\n",
    "    pointy_img = annotate_points(rotated_img, vertices, color=(255, 255, 0), thickness=30)\n",
    "    _ = annotate_lines(pointy_img, lines, filename=\"../outs/Lines/ClippedLines_Main_Lines.png\")\n",
    "\n",
    "    vertices = np.flip(vertices[np.argsort(vertices[:, 1])], axis=0)\n",
    "    holes = get_holes(vertices[0], DPI)\n",
    "    _ = annotate_holes(rotated_img, holes, DPI)\n",
    "\n",
    "    _ = annotate(rotated_img, DPI, lines=lines, vertices=vertices, holes=holes, thickness1=10, thickness2=20, thickness3=10)\n",
    "\n",
    "    extract(rotated_img, holes, DPI)\n",
    "    get_vid(\"e:\\\\TIFR Project\\\\combine\\\\outs\\\\Conventionally_named_holes\\\\*.jpg\")"
   ]
  },
  {
   "cell_type": "code",
   "execution_count": 42,
   "metadata": {},
   "outputs": [
    {
     "name": "stdout",
     "output_type": "stream",
     "text": [
      "0.61\n",
      "0.61\n",
      "0.61\n",
      "0.61\n",
      "0.61\n",
      "0.61\n",
      "0.61\n",
      "0.61\n",
      "16 s ± 156 ms per loop (mean ± std. dev. of 7 runs, 1 loop each)\n"
     ]
    },
    {
     "data": {
      "image/png": "[encoded data removed]",
      "text/plain": [
       "<Figure size 640x480 with 1 Axes>"
      ]
     },
     "metadata": {},
     "output_type": "display_data"
    }
   ],
   "source": [
    "# # Reading the image\n",
    "# Image.MAX_IMAGE_PIXELS = None\n",
    "# for FILENAME in ['../resources/600 DPI -PCB007.jpg', '../resources/1200 DPI -PCB008.jpg', '../resources/800 RS -PCB006.jpg']:\n",
    "#     img = Image.open(fp=FILENAME, mode=\"r\")\n",
    "#     DPI = img.info['dpi'][0]\n",
    "#     img = np.array(img)\n",
    "#     img = np.flip(img, axis=-1)\n",
    "\n",
    "#     %timeit -c timers_function(img, DPI)"
   ]
  }
 ],
 "metadata": {
  "kernelspec": {
   "display_name": "TIFR",
   "language": "python",
   "name": "python3"
  },
  "language_info": {
   "codemirror_mode": {
    "name": "ipython",
    "version": 3
   },
   "file_extension": ".py",
   "mimetype": "text/x-python",
   "name": "python",
   "nbconvert_exporter": "python",
   "pygments_lexer": "ipython3",
   "version": "3.9.10"
  }
 },
 "nbformat": 4,
 "nbformat_minor": 2
}
